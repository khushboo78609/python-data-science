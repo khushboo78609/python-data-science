{
 "cells": [
  {
   "cell_type": "markdown",
   "metadata": {},
   "source": [
    "# lambda expression\n",
    "- anonymous function , a function without a name\n",
    "- and they stored a variable, which can be called later like a function"
   ]
  },
  {
   "cell_type": "markdown",
   "metadata": {},
   "source": [
    "a simple function in math look like\n",
    "\n",
    "f(x) = x**2 + x-1\n",
    "\n",
    "or \n",
    "\n",
    "g(x,y) = x+y\n",
    "\n",
    "f(3)\n",
    "\n",
    "g(3,4)\n",
    "\n"
   ]
  },
  {
   "cell_type": "code",
   "execution_count": 2,
   "metadata": {},
   "outputs": [
    {
     "data": {
      "text/plain": [
       "11"
      ]
     },
     "execution_count": 2,
     "metadata": {},
     "output_type": "execute_result"
    }
   ],
   "source": [
    "# ambda example one\n",
    "f = lambda x : x**2 + x - 1\n",
    "f(3)"
   ]
  },
  {
   "cell_type": "code",
   "execution_count": 3,
   "metadata": {},
   "outputs": [
    {
     "data": {
      "text/plain": [
       "5"
      ]
     },
     "execution_count": 3,
     "metadata": {},
     "output_type": "execute_result"
    }
   ],
   "source": [
    "g = lambda x,y: x+y\n",
    "g(2,3)"
   ]
  },
  {
   "cell_type": "code",
   "execution_count": 4,
   "metadata": {},
   "outputs": [
    {
     "data": {
      "text/plain": [
       "139"
      ]
     },
     "execution_count": 4,
     "metadata": {},
     "output_type": "execute_result"
    }
   ],
   "source": [
    "f(10) + g(10, 20)"
   ]
  },
  {
   "cell_type": "code",
   "execution_count": 5,
   "metadata": {},
   "outputs": [
    {
     "name": "stdout",
     "output_type": "stream",
     "text": [
      "17.69180601295413\n"
     ]
    }
   ],
   "source": [
    "hyp = lambda x ,y: (x**2 + y**2) ** .5\n",
    "ans = hyp(13,12)\n",
    "print(ans)"
   ]
  },
  {
   "cell_type": "markdown",
   "metadata": {},
   "source": [
    "map & filter \n",
    "- map -apply a function to every element in a sequence(iterable)\n",
    "- filter- apply a function to every element in a sequence(iterable),return only the elements that evaluate to true"
   ]
  },
  {
   "cell_type": "markdown",
   "metadata": {},
   "source": []
  },
  {
   "cell_type": "code",
   "execution_count": 6,
   "metadata": {},
   "outputs": [
    {
     "name": "stdout",
     "output_type": "stream",
     "text": [
      "[2, 3, 4, 5]\n",
      "[4, 9, 16, 25]\n"
     ]
    }
   ],
   "source": [
    "x = [2,3,4,5]\n",
    "x2 = []\n",
    "for i in x:\n",
    "    s = i**2\n",
    "    x2.append(s)\n",
    "print(x)\n",
    "print(x2)"
   ]
  },
  {
   "cell_type": "code",
   "execution_count": 9,
   "metadata": {},
   "outputs": [
    {
     "name": "stdout",
     "output_type": "stream",
     "text": [
      "[2, 3, 4, 5, 6, 1, 10]\n",
      "[4, 9, 16, 25, 36, 1, 100]\n",
      "[8, 27, 64, 125, 216, 1, 1000]\n",
      "[-8, -7, -6, -5, -4, -9, 0]\n"
     ]
    }
   ],
   "source": [
    "x = [2,3,4,5,6,1,10]\n",
    "x2 =list(map(lambda i: i**2, x))\n",
    "x3 = list(map(lambda i: i**3, x))\n",
    "x10 =list(map(lambda i: i-10, x))\n",
    "print(x)\n",
    "print(x2)\n",
    "print(x3)\n",
    "print(x10)"
   ]
  },
  {
   "cell_type": "markdown",
   "metadata": {},
   "source": [
    "wap to use the map function and perform i +i **2 for every element in the list data = [1,2,3,4,5]"
   ]
  },
  {
   "cell_type": "code",
   "execution_count": 10,
   "metadata": {},
   "outputs": [
    {
     "name": "stdout",
     "output_type": "stream",
     "text": [
      "[2, 6, 12, 20, 30]\n"
     ]
    }
   ],
   "source": [
    "x = [1,2,3,4,5]\n",
    "x2 = list(map(lambda i: i+i **2,x))\n",
    "print(x2)"
   ]
  },
  {
   "cell_type": "markdown",
   "metadata": {},
   "source": [
    "map \n",
    "`map(function with operation , iterable)`\n",
    "\n",
    "filter\n",
    "`filter(function with condition ,iterable)`"
   ]
  },
  {
   "cell_type": "code",
   "execution_count": 13,
   "metadata": {},
   "outputs": [
    {
     "name": "stdout",
     "output_type": "stream",
     "text": [
      "[3, 5, 1, 13, 15, 17, 19]\n",
      "[3, 5, 1, 13, 15, 17, 19]\n"
     ]
    }
   ],
   "source": [
    "x = [2,3,4,5,6,1,10,12,13,14,15,16,17,18,19,20]\n",
    "odds = list(filter(lambda i: i%2!=0,x))\n",
    "print(odds)\n",
    "evens = list(filter(lambda i: i%2!=0,x))\n",
    "print(evens)\n",
    "xgtes = list(filter(lambda i: i>=5,x))\n"
   ]
  },
  {
   "cell_type": "code",
   "execution_count": null,
   "metadata": {},
   "outputs": [],
   "source": []
  }
 ],
 "metadata": {
  "kernelspec": {
   "display_name": "base",
   "language": "python",
   "name": "python3"
  },
  "language_info": {
   "codemirror_mode": {
    "name": "ipython",
    "version": 3
   },
   "file_extension": ".py",
   "mimetype": "text/x-python",
   "name": "python",
   "nbconvert_exporter": "python",
   "pygments_lexer": "ipython3",
   "version": "3.11.5"
  }
 },
 "nbformat": 4,
 "nbformat_minor": 2
}
