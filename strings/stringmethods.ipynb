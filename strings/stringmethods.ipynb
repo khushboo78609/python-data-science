{
 "cells": [
  {
   "cell_type": "markdown",
   "metadata": {},
   "source": [
    "function vs method\n",
    "\n",
    "- functions\n",
    "  - functions are a block of code that does a particular operation and returns a result,\n",
    "  - functions are used directly without the need of creating a variable(object) first\n",
    "\n",
    "- methods\n",
    "  - methods are functions that are associated with a variable(object)\n",
    "  - methods cannot be used directly\n",
    "  - they need to be called using the variable(object) they are associated with"
   ]
  },
  {
   "cell_type": "code",
   "execution_count": 3,
   "metadata": {},
   "outputs": [
    {
     "name": "stdout",
     "output_type": "stream",
     "text": [
      "11\n",
      "HELLO WORLD\n"
     ]
    }
   ],
   "source": [
    "print(len(\"Hello world\"))\n",
    "print(\"Hello world\".upper())"
   ]
  },
  {
   "cell_type": "markdown",
   "metadata": {},
   "source": [
    "Strings method\n",
    "-formatting\n",
    "   - upper()\n",
    "   - lower()\n",
    "   - capatalize()\n",
    "   - title()\n",
    "   - swapcase()\n",
    "   - casefold()\n",
    " -validation\n",
    "    - isalpha()\n",
    "    - isalnum()\n",
    "    - isnumeric()\n",
    "    - startswith()\n",
    "    - endswith()\n",
    "    - islower()\n",
    "-searching\n",
    "    - find()\n",
    "    - count()\n",
    "    - replace()\n",
    "-utility\n",
    "    -  split()\n",
    "    -  join()\n",
    "    -  strip()\n",
    "    -  removeprefix()\n",
    "    -  removesuffix()"
   ]
  },
  {
   "cell_type": "markdown",
   "metadata": {},
   "source": []
  },
  {
   "cell_type": "code",
   "execution_count": 4,
   "metadata": {},
   "outputs": [
    {
     "data": {
      "text/plain": [
       "'this is sparta'"
      ]
     },
     "execution_count": 4,
     "metadata": {},
     "output_type": "execute_result"
    }
   ],
   "source": [
    "msg = 'This is Sparta'\n",
    "msg.lower()"
   ]
  },
  {
   "cell_type": "code",
   "execution_count": 5,
   "metadata": {},
   "outputs": [
    {
     "data": {
      "text/plain": [
       "'This is Sparta'"
      ]
     },
     "execution_count": 5,
     "metadata": {},
     "output_type": "execute_result"
    }
   ],
   "source": [
    "msg"
   ]
  },
  {
   "cell_type": "code",
   "execution_count": 6,
   "metadata": {},
   "outputs": [
    {
     "name": "stdout",
     "output_type": "stream",
     "text": [
      "this is sparta\n"
     ]
    }
   ],
   "source": [
    "msg = 'This is Sparta'\n",
    "msg= msg.lower()\n",
    "print(msg)"
   ]
  },
  {
   "cell_type": "code",
   "execution_count": 8,
   "metadata": {},
   "outputs": [
    {
     "name": "stdout",
     "output_type": "stream",
     "text": [
      "this is sparta\n",
      "THIS IS SPARTA\n",
      "This is sparta\n",
      "This Is Sparta\n",
      "tHIS IS sPARTA\n",
      "this is sparta\n"
     ]
    }
   ],
   "source": [
    "msg = 'This is Sparta'\n",
    "print(msg.lower())\n",
    "print(msg.upper())\n",
    "print(msg.capitalize())\n",
    "print(msg.title())\n",
    "print(msg.swapcase())\n",
    "print(msg.casefold())"
   ]
  },
  {
   "cell_type": "code",
   "execution_count": 20,
   "metadata": {},
   "outputs": [
    {
     "name": "stdout",
     "output_type": "stream",
     "text": [
      "True\n",
      "False\n",
      "True\n",
      "False\n",
      "False\n",
      "True\n",
      "True\n",
      "True\n",
      "True\n"
     ]
    }
   ],
   "source": [
    "print(\"abc\".isalpha())\n",
    "print(\"abc def\".isalpha())\n",
    "print('123'.isnumeric())\n",
    "print('1,2,3'.isnumeric())\n",
    "print('3.14'.isnumeric())\n",
    "print('12monkeys'.isalnum())\n",
    "print('monkeys'.isalnum())\n",
    "print('123'.isalnum())\n",
    "print('    '.isspace())"
   ]
  },
  {
   "cell_type": "code",
   "execution_count": 19,
   "metadata": {},
   "outputs": [
    {
     "name": "stdout",
     "output_type": "stream",
     "text": [
      "input is correct\n"
     ]
    }
   ],
   "source": [
    "num1 = input('enter a number')\n",
    "if num1.isnumeric():\n",
    "    print('input is correct')\n",
    "    num1= int(num1)\n",
    "else:\n",
    "    print('input is incorrect')"
   ]
  },
  {
   "cell_type": "code",
   "execution_count": 23,
   "metadata": {},
   "outputs": [
    {
     "data": {
      "text/plain": [
       "False"
      ]
     },
     "execution_count": 23,
     "metadata": {},
     "output_type": "execute_result"
    }
   ],
   "source": [
    "name ='Chistopher Brooks'\n",
    "name.startswith('Chris')\n"
   ]
  },
  {
   "cell_type": "code",
   "execution_count": 29,
   "metadata": {},
   "outputs": [
    {
     "name": "stdout",
     "output_type": "stream",
     "text": [
      "Chris\n"
     ]
    }
   ],
   "source": [
    "names = ['Chris','Christian','Kristian', 'Chiranjeev']\n",
    "for name in names:\n",
    "    if name.startswith('Ch'):\n",
    "       if name.endswith('is'):\n",
    "         print(name)"
   ]
  },
  {
   "cell_type": "code",
   "execution_count": 35,
   "metadata": {},
   "outputs": [
    {
     "name": "stdout",
     "output_type": "stream",
     "text": [
      "0\n",
      "-1\n",
      "11\n",
      "33\n",
      "47\n",
      "-1\n"
     ]
    }
   ],
   "source": [
    "data = 'this is a long string with some content and is simple string'\n",
    "print(data.find('this'))\n",
    "print(data.find('This'))\n",
    "print(data.find('on'))\n",
    "print(data.find('on',15))\n",
    "print(data.find('simple'))\n",
    "print(data.find('simple',5,30)) #start,end\n",
    "print"
   ]
  },
  {
   "cell_type": "code",
   "execution_count": 38,
   "metadata": {},
   "outputs": [
    {
     "name": "stdout",
     "output_type": "stream",
     "text": [
      "3\n",
      "2\n",
      "1\n",
      "0\n"
     ]
    }
   ],
   "source": [
    "print(data.count('is'))\n",
    "print(data.count('a'))\n",
    "print(data.count('simple'))\n",
    "print(data.count('scan'))"
   ]
  },
  {
   "cell_type": "code",
   "execution_count": 40,
   "metadata": {},
   "outputs": [
    {
     "data": {
      "text/plain": [
       "'thwas was a long string with some content and was simple string'"
      ]
     },
     "execution_count": 40,
     "metadata": {},
     "output_type": "execute_result"
    }
   ],
   "source": [
    "data.replace('is','was')"
   ]
  },
  {
   "cell_type": "code",
   "execution_count": 41,
   "metadata": {},
   "outputs": [
    {
     "data": {
      "text/plain": [
       "'thas as a long strang wath somo contont and as samplo strang'"
      ]
     },
     "execution_count": 41,
     "metadata": {},
     "output_type": "execute_result"
    }
   ],
   "source": [
    "data.replace('i','a').replace('e','o')"
   ]
  },
  {
   "cell_type": "code",
   "execution_count": 46,
   "metadata": {},
   "outputs": [
    {
     "data": {
      "text/plain": [
       "'ths s a lng strng wth sm cntnt and s smpl strng'"
      ]
     },
     "execution_count": 46,
     "metadata": {},
     "output_type": "execute_result"
    }
   ],
   "source": [
    "data.replace('i','').replace('e','').replace('o','')"
   ]
  },
  {
   "cell_type": "code",
   "execution_count": 52,
   "metadata": {},
   "outputs": [
    {
     "name": "stdout",
     "output_type": "stream",
     "text": [
      "['this', 'is', 'a', 'long', 'string', 'with', 'some', 'content', 'and', 'is', 'simple', 'string']\n",
      "['th', 's ', 's a long str', 'ng w', 'th some content and ', 's s', 'mple str', 'ng']\n",
      "['this', 'is', 'a', 'long string with some content and is simple string']\n",
      "['apple,banana,orange']\n"
     ]
    }
   ],
   "source": [
    "print(data.split())\n",
    "print(data.split('i'))\n",
    "print(data.split(maxsplit=3))\n",
    "\n",
    "print(\"apple,banana,orange\".split(', '))"
   ]
  },
  {
   "cell_type": "code",
   "execution_count": 53,
   "metadata": {},
   "outputs": [
    {
     "name": "stdout",
     "output_type": "stream",
     "text": [
      "12\n"
     ]
    }
   ],
   "source": [
    "print(len(data.split()))"
   ]
  },
  {
   "cell_type": "code",
   "execution_count": 60,
   "metadata": {},
   "outputs": [
    {
     "name": "stdout",
     "output_type": "stream",
     "text": [
      "1,234\n",
      "1,2 3 4\n",
      "1,2,3,4\n",
      "1,2-x-x-3-x-x-4\n",
      "1,2_3_4\n",
      "1,2😊3😊4\n"
     ]
    }
   ],
   "source": [
    "x = ['1,2','3','4']\n",
    "print(''.join(x))\n",
    "print(' '.join(x))\n",
    "print(','.join(x))\n",
    "print('-x-x-'.join(x))\n",
    "print('_'.join(x))\n",
    "print('😊'.join(x))"
   ]
  },
  {
   "cell_type": "code",
   "execution_count": null,
   "metadata": {},
   "outputs": [],
   "source": []
  }
 ],
 "metadata": {
  "kernelspec": {
   "display_name": "base",
   "language": "python",
   "name": "python3"
  },
  "language_info": {
   "codemirror_mode": {
    "name": "ipython",
    "version": 3
   },
   "file_extension": ".py",
   "mimetype": "text/x-python",
   "name": "python",
   "nbconvert_exporter": "python",
   "pygments_lexer": "ipython3",
   "version": "3.11.5"
  }
 },
 "nbformat": 4,
 "nbformat_minor": 2
}
