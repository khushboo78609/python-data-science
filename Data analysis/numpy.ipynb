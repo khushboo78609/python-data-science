{
 "cells": [
  {
   "cell_type": "code",
   "execution_count": 5,
   "metadata": {},
   "outputs": [
    {
     "name": "stdout",
     "output_type": "stream",
     "text": [
      "[3, 5, 7]\n"
     ]
    }
   ],
   "source": [
    "x = [1,2,3]\n",
    "y = [2,3,4]\n",
    "ans = []\n",
    "for a,b in zip(x,y):\n",
    "    v = a+b\n",
    "    ans.append(v)\n",
    "print(ans)"
   ]
  },
  {
   "cell_type": "markdown",
   "metadata": {},
   "source": [
    "number processing library for python - numpy\n",
    "- array : it is a list of homogeneous elements\n"
   ]
  },
  {
   "cell_type": "code",
   "execution_count": 11,
   "metadata": {},
   "outputs": [],
   "source": [
    "import numpy as np"
   ]
  },
  {
   "cell_type": "code",
   "execution_count": 13,
   "metadata": {},
   "outputs": [
    {
     "name": "stdout",
     "output_type": "stream",
     "text": [
      "[1 2 3] + [2 3 4] = [3 5 7]\n",
      "[1 2 3] - [2 3 4] = [-1 -1 -1]\n",
      "[1 2 3] * [2 3 4] = [ 2  6 12]\n",
      "[1 2 3] / [2 3 4] = [0.5        0.66666667 0.75      ]\n"
     ]
    }
   ],
   "source": [
    "x = np.array([1,2,3])\n",
    "y = np.array([2,3,4])\n",
    "print(x,'+',y,'=',x+y)\n",
    "print(x,'-',y,'=',x-y)\n",
    "print(x,'*',y,'=',x*y)\n",
    "print(x,'/',y,'=',x/y)"
   ]
  },
  {
   "cell_type": "markdown",
   "metadata": {},
   "source": [
    "matrices are \n",
    "- 1D array\n",
    "- 2D array\n",
    "- 3D array\n",
    "- 4D array\n",
    "- nD array"
   ]
  },
  {
   "cell_type": "code",
   "execution_count": 15,
   "metadata": {},
   "outputs": [
    {
     "name": "stdout",
     "output_type": "stream",
     "text": [
      "[1 2 3] <class 'numpy.ndarray'> (3,) 1\n",
      "[[1 2]\n",
      " [3 4]] <class 'numpy.ndarray'> (2, 2) 2\n"
     ]
    }
   ],
   "source": [
    "# one dimension matrix\n",
    "x = np.array([1,2,3])\n",
    "print(x,type(x), x.shape,x.ndim)\n",
    "#two dimension matrix\n",
    "x2 = np.array([[1,2],[3,4]])\n",
    "print(x2, type(x2), x2.shape, x2.ndim)"
   ]
  },
  {
   "cell_type": "code",
   "execution_count": 17,
   "metadata": {},
   "outputs": [
    {
     "name": "stdout",
     "output_type": "stream",
     "text": [
      "[[[1 2]\n",
      "  [3 4]\n",
      "  [5 6]\n",
      "  [7 8]]] (1, 4, 2) 3\n"
     ]
    }
   ],
   "source": [
    "# 3 dimension matrix\n",
    "x3 = np.array([[[1,2],[3,4],[5,6],[7,8]]])\n",
    "print(x3, x3.shape, x3.ndim )\n",
    "\n"
   ]
  },
  {
   "cell_type": "code",
   "execution_count": 18,
   "metadata": {},
   "outputs": [
    {
     "name": "stdout",
     "output_type": "stream",
     "text": [
      "(5, 6) 2 30\n"
     ]
    }
   ],
   "source": [
    "# 6 x 6 matrix\n",
    "x4 = np.array([\n",
    "    [1,2,3,4,5,6],\n",
    "    [1,2,3,4,5,6],\n",
    "    [1,2,3,4,5,6],\n",
    "    [1,2,3,4,5,6],\n",
    "    [1,2,3,4,5,6],\n",
    "])\n",
    "print(x4.shape, x4.ndim, x4.size)"
   ]
  },
  {
   "cell_type": "markdown",
   "metadata": {},
   "source": [
    "matrix generation in numpy\n",
    "- array() # basic\n",
    "- arange() #  range of alues with gap\n",
    "- linspace() #range of values with equal gap\n",
    "- logspace() # range of  values with equal gap in log scale\n",
    "- zeros() # array with all zeroes \n",
    "- ones() # array with all ones\n",
    "- eye() # identity matrix\n",
    "- diag() # diagnol matrix \n",
    "- random.rand() # random matrix of given shape from 0 to 1\n",
    "- random.randint() # random matrix of given shape from given range"
   ]
  },
  {
   "cell_type": "code",
   "execution_count": 21,
   "metadata": {},
   "outputs": [
    {
     "name": "stdout",
     "output_type": "stream",
     "text": [
      "[0 1 2 3 4 5 6 7 8 9]\n",
      "[-10.   -9.5  -9.   -8.5  -8.   -7.5  -7.   -6.5  -6.   -5.5  -5.   -4.5\n",
      "  -4.   -3.5  -3.   -2.5  -2.   -1.5  -1.   -0.5   0.    0.5   1.    1.5\n",
      "   2.    2.5   3.    3.5   4.    4.5   5.    5.5   6.    6.5   7.    7.5\n",
      "   8.    8.5   9.    9.5  10.   10.5]\n",
      "[-3.14159265 -1.14159265  0.85840735  2.85840735]\n",
      "[ 1  3  5  7  9 11 13]\n"
     ]
    }
   ],
   "source": [
    "# arange( function)\n",
    "x = np.arange(10)\n",
    "print(x)\n",
    "x1 = np.arange(-10,11,.5)\n",
    "print(x1)\n",
    "x2 = np.arange(-np.pi, np.pi, 2)\n",
    "print(x2)\n",
    "x3 = np.arange(1,15,2)\n",
    "print(x3)\n"
   ]
  },
  {
   "cell_type": "code",
   "execution_count": 25,
   "metadata": {},
   "outputs": [
    {
     "name": "stdout",
     "output_type": "stream",
     "text": [
      "[ 0.   2.5  5.   7.5 10. ]\n",
      "[  0.           5.05050505  10.1010101   15.15151515  20.2020202\n",
      "  25.25252525  30.3030303   35.35353535  40.4040404   45.45454545\n",
      "  50.50505051  55.55555556  60.60606061  65.65656566  70.70707071\n",
      "  75.75757576  80.80808081  85.85858586  90.90909091  95.95959596\n",
      " 101.01010101 106.06060606 111.11111111 116.16161616 121.21212121\n",
      " 126.26262626 131.31313131 136.36363636 141.41414141 146.46464646\n",
      " 151.51515152 156.56565657 161.61616162 166.66666667 171.71717172\n",
      " 176.76767677 181.81818182 186.86868687 191.91919192 196.96969697\n",
      " 202.02020202 207.07070707 212.12121212 217.17171717 222.22222222\n",
      " 227.27272727 232.32323232 237.37373737 242.42424242 247.47474747\n",
      " 252.52525253 257.57575758 262.62626263 267.67676768 272.72727273\n",
      " 277.77777778 282.82828283 287.87878788 292.92929293 297.97979798\n",
      " 303.03030303 308.08080808 313.13131313 318.18181818 323.23232323\n",
      " 328.28282828 333.33333333 338.38383838 343.43434343 348.48484848\n",
      " 353.53535354 358.58585859 363.63636364 368.68686869 373.73737374\n",
      " 378.78787879 383.83838384 388.88888889 393.93939394 398.98989899\n",
      " 404.04040404 409.09090909 414.14141414 419.19191919 424.24242424\n",
      " 429.29292929 434.34343434 439.39393939 444.44444444 449.49494949\n",
      " 454.54545455 459.5959596  464.64646465 469.6969697  474.74747475\n",
      " 479.7979798  484.84848485 489.8989899  494.94949495 500.        ]\n"
     ]
    }
   ],
   "source": [
    "x = np.linspace(0,10,5) # 5 numbers of elements\n",
    "print(x)\n",
    "x1 = np.linspace(0,500,100)\n",
    "print(x1)"
   ]
  },
  {
   "cell_type": "code",
   "execution_count": 27,
   "metadata": {},
   "outputs": [
    {
     "name": "stdout",
     "output_type": "stream",
     "text": [
      "[0. 0. 0. 0. 0. 0. 0. 0. 0. 0.]\n",
      "[[0. 0. 0.]\n",
      " [0. 0. 0.]]\n"
     ]
    }
   ],
   "source": [
    "z = np.zeros(10)\n",
    "print(z)\n",
    "z1 = np.zeros((2,3))\n",
    "print(z1)"
   ]
  },
  {
   "cell_type": "code",
   "execution_count": 30,
   "metadata": {},
   "outputs": [
    {
     "name": "stdout",
     "output_type": "stream",
     "text": [
      "[[1. 1. 1. 1. 1.]\n",
      " [1. 1. 1. 1. 1.]\n",
      " [1. 1. 1. 1. 1.]\n",
      " [1. 1. 1. 1. 1.]]\n"
     ]
    }
   ],
   "source": [
    "o = np.ones((4,5))\n",
    "print(o)"
   ]
  },
  {
   "cell_type": "code",
   "execution_count": 36,
   "metadata": {},
   "outputs": [
    {
     "name": "stdout",
     "output_type": "stream",
     "text": [
      "[[1 0 0 0 0]\n",
      " [0 1 0 0 0]\n",
      " [0 0 1 0 0]\n",
      " [0 0 0 1 0]\n",
      " [0 0 0 0 1]]\n"
     ]
    }
   ],
   "source": [
    "e = np.eye(5,dtype=int)\n",
    "print(e)"
   ]
  },
  {
   "cell_type": "code",
   "execution_count": 37,
   "metadata": {},
   "outputs": [
    {
     "data": {
      "text/plain": [
       "array([[0.15954955, 0.26885077, 0.46970891],\n",
       "       [0.07229192, 0.53699699, 0.50237602],\n",
       "       [0.54197784, 0.78722536, 0.12245853]])"
      ]
     },
     "execution_count": 37,
     "metadata": {},
     "output_type": "execute_result"
    }
   ],
   "source": [
    "np.random.rand(3,3)\n"
   ]
  },
  {
   "cell_type": "code",
   "execution_count": 39,
   "metadata": {},
   "outputs": [
    {
     "data": {
      "text/plain": [
       "array([[-1.35852148,  0.2008006 , -1.15540872],\n",
       "       [-0.74799367,  1.01999031,  1.30283744],\n",
       "       [-0.20858985,  1.05087809,  1.91525561]])"
      ]
     },
     "execution_count": 39,
     "metadata": {},
     "output_type": "execute_result"
    }
   ],
   "source": [
    "np.random.randn(3,3)"
   ]
  },
  {
   "cell_type": "code",
   "execution_count": 43,
   "metadata": {},
   "outputs": [
    {
     "data": {
      "text/plain": [
       "array([[11, 12, 12, 13, 14],\n",
       "       [13, 14, 12, 14, 14],\n",
       "       [11, 12, 13, 12, 13],\n",
       "       [12, 13, 12, 13, 12],\n",
       "       [14, 11, 11, 13, 12]])"
      ]
     },
     "execution_count": 43,
     "metadata": {},
     "output_type": "execute_result"
    }
   ],
   "source": [
    "np.random.randint(11,15,(5,5))\n"
   ]
  },
  {
   "cell_type": "markdown",
   "metadata": {},
   "source": [
    "matrix operations"
   ]
  },
  {
   "cell_type": "code",
   "execution_count": null,
   "metadata": {},
   "outputs": [],
   "source": []
  },
  {
   "cell_type": "markdown",
   "metadata": {},
   "source": []
  }
 ],
 "metadata": {
  "kernelspec": {
   "display_name": "base",
   "language": "python",
   "name": "python3"
  },
  "language_info": {
   "codemirror_mode": {
    "name": "ipython",
    "version": 3
   },
   "file_extension": ".py",
   "mimetype": "text/x-python",
   "name": "python",
   "nbconvert_exporter": "python",
   "pygments_lexer": "ipython3",
   "version": "3.11.5"
  }
 },
 "nbformat": 4,
 "nbformat_minor": 2
}
