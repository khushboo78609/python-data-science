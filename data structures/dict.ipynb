{
 "cells": [
  {
   "cell_type": "code",
   "execution_count": 4,
   "metadata": {},
   "outputs": [],
   "source": [
    "x = [\n",
    "    'rohan' ,\n",
    "    '5 feet' ,\n",
    "    18,\n",
    "    False,\n",
    "    'Undergraduate','BBA', ' Basketball' ,' chocolate']\n",
    "    "
   ]
  },
  {
   "cell_type": "code",
   "execution_count": 6,
   "metadata": {},
   "outputs": [
    {
     "name": "stdout",
     "output_type": "stream",
     "text": [
      "18\n",
      " chocolate\n",
      "BBA\n",
      "['rohan', '5 feet', 18, False, 'Undergraduate', 'BBA', ' Basketball', ' chocolate']\n"
     ]
    }
   ],
   "source": [
    "print(x[2]) # index 2 is Age\n",
    "print(x[-1])\n",
    "print(x[-3])\n",
    "print(x)\n"
   ]
  },
  {
   "cell_type": "code",
   "execution_count": 7,
   "metadata": {},
   "outputs": [
    {
     "name": "stdout",
     "output_type": "stream",
     "text": [
      "18\n",
      "chocolate\n",
      "Basketball\n"
     ]
    }
   ],
   "source": [
    "xd = {'name': 'rohan', \n",
    "      'height': '5 ft',\n",
    "        'age': 18,\n",
    "'is_marrird': False,\n",
    "'edu_level' : 'BBA',\n",
    "'degree': 'Undergraduate',\n",
    "'hobby': 'Basketball',\n",
    "'fav_food': 'chocolate'\n",
    "}\n",
    "print(xd['age'])\n",
    "print(xd['fav_food'])\n",
    "print(xd['hobby'])\n",
    "\n",
    "\n"
   ]
  },
  {
   "cell_type": "code",
   "execution_count": 8,
   "metadata": {},
   "outputs": [
    {
     "name": "stdout",
     "output_type": "stream",
     "text": [
      "{0: 34, 1: 23, 2: 56, 3: 37, 4: 24}\n"
     ]
    }
   ],
   "source": [
    "nums = {}\n",
    "for i in range(5):\n",
    "    value = int(input('Enter a number'))\n",
    "    nums[i] = value # add a new {key :value} pair to the dictionary\n",
    "print(nums)"
   ]
  },
  {
   "cell_type": "markdown",
   "metadata": {},
   "source": [
    "dictionary(no methods for add a new key:value pair)\n",
    "- add\n",
    "- remove\n",
    "- get\n",
    "- update\n",
    "- keys\n",
    "- values\n",
    "- items"
   ]
  },
  {
   "cell_type": "code",
   "execution_count": 9,
   "metadata": {},
   "outputs": [
    {
     "data": {
      "text/plain": [
       "{'Animal': 8, 'Sam Bahadur': 9.0, 'Gangs of Waseypur': 8.4}"
      ]
     },
     "execution_count": 9,
     "metadata": {},
     "output_type": "execute_result"
    }
   ],
   "source": [
    "movies = {'Animal' : 8} # direct assignment\n",
    "\n",
    "movies['Sam Bahadur'] = 9.0 # adding a new key:value pair\n",
    "movies['Gangs of Waseypur'] = 8.4 \n",
    "movies"
   ]
  },
  {
   "cell_type": "code",
   "execution_count": 11,
   "metadata": {},
   "outputs": [],
   "source": [
    "movies['Animal'] = 7\n",
    "movies['Fast X'] = 9\n",
    "movies['Dream Girl'] = 8.4\n"
   ]
  },
  {
   "cell_type": "code",
   "execution_count": 14,
   "metadata": {},
   "outputs": [],
   "source": [
    "for i in range(3):\n",
    "    key= input(\"Enter a movie name\")\n",
    "    value = float(input(\"Enter the rating\"))\n",
    "    movies[key] = value"
   ]
  },
  {
   "cell_type": "code",
   "execution_count": 15,
   "metadata": {},
   "outputs": [
    {
     "data": {
      "text/plain": [
       "{'Animal': 7.5,\n",
       " 'Sam Bahadur': 9.0,\n",
       " 'Gangs of Waseypur': 8.4,\n",
       " 'Fast X': 8.8,\n",
       " 'Dream Girl': 6.8}"
      ]
     },
     "execution_count": 15,
     "metadata": {},
     "output_type": "execute_result"
    }
   ],
   "source": [
    "movies"
   ]
  },
  {
   "cell_type": "code",
   "execution_count": 16,
   "metadata": {},
   "outputs": [
    {
     "data": {
      "text/plain": [
       "8.8"
      ]
     },
     "execution_count": 16,
     "metadata": {},
     "output_type": "execute_result"
    }
   ],
   "source": [
    "movies.pop('Fast X') # removes the key:value pair"
   ]
  },
  {
   "cell_type": "code",
   "execution_count": 17,
   "metadata": {},
   "outputs": [
    {
     "data": {
      "text/plain": [
       "('Dream Girl', 6.8)"
      ]
     },
     "execution_count": 17,
     "metadata": {},
     "output_type": "execute_result"
    }
   ],
   "source": [
    "movies.popitem() # removes the last key:value pair"
   ]
  },
  {
   "cell_type": "code",
   "execution_count": 18,
   "metadata": {},
   "outputs": [
    {
     "data": {
      "text/plain": [
       "{'Animal': 7.5, 'Sam Bahadur': 9.0, 'Gangs of Waseypur': 8.4}"
      ]
     },
     "execution_count": 18,
     "metadata": {},
     "output_type": "execute_result"
    }
   ],
   "source": [
    "movies"
   ]
  },
  {
   "cell_type": "code",
   "execution_count": 30,
   "metadata": {},
   "outputs": [
    {
     "ename": "KeyError",
     "evalue": "'Dream girl'",
     "output_type": "error",
     "traceback": [
      "\u001b[1;31m---------------------------------------------------------------------------\u001b[0m",
      "\u001b[1;31mKeyError\u001b[0m                                  Traceback (most recent call last)",
      "Cell \u001b[1;32mIn[30], line 1\u001b[0m\n\u001b[1;32m----> 1\u001b[0m \u001b[38;5;28mprint\u001b[39m(movies[\u001b[38;5;124m'\u001b[39m\u001b[38;5;124mDream girl\u001b[39m\u001b[38;5;124m'\u001b[39m])\n",
      "\u001b[1;31mKeyError\u001b[0m: 'Dream girl'"
     ]
    }
   ],
   "source": [
    "print(movies['Dream girl'])\n",
    "print(movies['Dream Girl']) # error because the key is not present\n"
   ]
  },
  {
   "cell_type": "code",
   "execution_count": 31,
   "metadata": {},
   "outputs": [
    {
     "name": "stdout",
     "output_type": "stream",
     "text": [
      "None\n",
      "None\n"
     ]
    }
   ],
   "source": [
    "print(movies.get('Dream girl'))\n",
    "print(movies.get('Dream irl'))"
   ]
  },
  {
   "cell_type": "code",
   "execution_count": 32,
   "metadata": {},
   "outputs": [
    {
     "name": "stdout",
     "output_type": "stream",
     "text": [
      "not found\n",
      "not found\n"
     ]
    }
   ],
   "source": [
    "print(movies.get('Dream girl', 'not found'))\n",
    "print(movies.get('Dream irl','not found'))"
   ]
  },
  {
   "cell_type": "code",
   "execution_count": 33,
   "metadata": {},
   "outputs": [
    {
     "name": "stdout",
     "output_type": "stream",
     "text": [
      "Animal\n",
      "Sam Bahadur\n",
      "Gangs of Waseypur\n"
     ]
    }
   ],
   "source": [
    "# keys\n",
    "for i in movies:\n",
    "    print(i)"
   ]
  },
  {
   "cell_type": "code",
   "execution_count": 34,
   "metadata": {},
   "outputs": [
    {
     "data": {
      "text/plain": [
       "dict_keys(['Animal', 'Sam Bahadur', 'Gangs of Waseypur'])"
      ]
     },
     "execution_count": 34,
     "metadata": {},
     "output_type": "execute_result"
    }
   ],
   "source": [
    "movies.keys()"
   ]
  },
  {
   "cell_type": "code",
   "execution_count": 35,
   "metadata": {},
   "outputs": [
    {
     "data": {
      "text/plain": [
       "dict_values([7.5, 9.0, 8.4])"
      ]
     },
     "execution_count": 35,
     "metadata": {},
     "output_type": "execute_result"
    }
   ],
   "source": [
    "movies.values()"
   ]
  },
  {
   "cell_type": "code",
   "execution_count": 36,
   "metadata": {},
   "outputs": [
    {
     "data": {
      "text/plain": [
       "dict_items([('Animal', 7.5), ('Sam Bahadur', 9.0), ('Gangs of Waseypur', 8.4)])"
      ]
     },
     "execution_count": 36,
     "metadata": {},
     "output_type": "execute_result"
    }
   ],
   "source": [
    "movies.items()"
   ]
  },
  {
   "cell_type": "code",
   "execution_count": 37,
   "metadata": {},
   "outputs": [
    {
     "name": "stdout",
     "output_type": "stream",
     "text": [
      "Animal              7.500000\n",
      "Sam Bahadur         9.000000\n",
      "Gangs of Waseypur   8.400000\n"
     ]
    }
   ],
   "source": [
    "for k,v in movies.items():\n",
    "    print(f'{k:20}{v:1f}')"
   ]
  },
  {
   "cell_type": "code",
   "execution_count": 39,
   "metadata": {},
   "outputs": [],
   "source": [
    "movies['Entertainment'] = 10"
   ]
  },
  {
   "cell_type": "code",
   "execution_count": null,
   "metadata": {},
   "outputs": [],
   "source": []
  }
 ],
 "metadata": {
  "kernelspec": {
   "display_name": "base",
   "language": "python",
   "name": "python3"
  },
  "language_info": {
   "codemirror_mode": {
    "name": "ipython",
    "version": 3
   },
   "file_extension": ".py",
   "mimetype": "text/x-python",
   "name": "python",
   "nbconvert_exporter": "python",
   "pygments_lexer": "ipython3",
   "version": "3.11.5"
  }
 },
 "nbformat": 4,
 "nbformat_minor": 2
}
