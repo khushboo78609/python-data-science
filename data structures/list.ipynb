{
 "cells": [
  {
   "cell_type": "markdown",
   "metadata": {},
   "source": [
    "# data structures in python\n",
    "\n",
    "- list \n",
    "   - indexed, ordered, **mutable**, allows duplicate members,`[]`\n",
    "- tuple\n",
    "   - indexed, ordered, **immutable**, allows duplicate members,`()`\n",
    "- set\n",
    "   - unindexed, **unordered**, mutable, **unique values only**,`{}`\n",
    "- dict\n",
    "   - **ordered**, mutable, **unique keys only**,**allows duplicate values,`{key:value}`\n"
   ]
  },
  {
   "cell_type": "markdown",
   "metadata": {},
   "source": []
  },
  {
   "cell_type": "markdown",
   "metadata": {},
   "source": [
    "# list\n",
    "- creating\n",
    "- indexing and slicing\n",
    "- methods \n",
    "- travels"
   ]
  },
  {
   "cell_type": "code",
   "execution_count": 1,
   "metadata": {},
   "outputs": [],
   "source": [
    "x = [] #empty list\n",
    "a = [1,2,3,4,5] #list of integers\n",
    "names = ['Alex', 'Arti', 'Anupam'] # list of strings\n",
    "mixed = [1,'Alex',2,'Arti'] #list of mixed data types\n",
    "nested =[1,[2,3],4] #nested list"
   ]
  },
  {
   "cell_type": "code",
   "execution_count": 5,
   "metadata": {},
   "outputs": [
    {
     "name": "stdout",
     "output_type": "stream",
     "text": [
      "[[1, 2, 3], [1, 2, 3], [1, 2, 3]]\n",
      "[1, 2, 3, 1, 2, 3, 1, 2, 3, 1, 2, 3, 1, 2, 3]\n",
      "[1, 1, 1, 1, 1, 1, 1, 1, 1, 1]\n"
     ]
    }
   ],
   "source": [
    "# creating a duplicated list\n",
    "a = [1,2,3]\n",
    "b = [a,a,a]\n",
    "print(b)\n",
    "# another way to create a duplicated list without nesting\n",
    "c = a*5\n",
    "print(c)\n",
    "# another one\n",
    "d =[1] * 10\n",
    "print(d)"
   ]
  },
  {
   "cell_type": "code",
   "execution_count": 20,
   "metadata": {},
   "outputs": [
    {
     "name": "stdout",
     "output_type": "stream",
     "text": [
      "1\n",
      "10\n",
      "[1, 2, 3, 4, 5]\n",
      "[6, 7, 8, 9, 10]\n",
      "[2, 4, 6, 8, 10]\n",
      "[1, 3, 5, 7, 9]\n",
      "[10, 9, 8, 7, 6, 5, 4, 3, 2, 1]\n",
      "[7, 6, 5, 4, 3, 2, 1]\n",
      "[7, 6, 5, 4, 3, 2, 1]\n"
     ]
    }
   ],
   "source": [
    "numbers = [1,2,3,4,5,6,7,8,9,10]\n",
    "print(numbers[0]) #first element\n",
    "print(numbers[-1]) #last element\n",
    "print(numbers[:5]) #first five elements\n",
    "print(numbers[-5:]) # last five elements\n",
    "print(numbers[1::2]) # odd indexed elements\n",
    "print(numbers[::2]) # even indexed elements\n",
    "print(numbers[::-1]) # reverse the list\n",
    "print(numbers[6::-1])\n",
    "print(numbers[:7][::-1])\n",
    "\n",
    "\n"
   ]
  },
  {
   "cell_type": "markdown",
   "metadata": {},
   "source": [
    "# methods in list - 11\n",
    "- adding elements\n",
    "  - append\n",
    "  - extend\n",
    "  - insert\n",
    "- removing elements\n",
    "  - pop \n",
    "  - remove\n",
    "  - clear\n",
    "- utility methods \n",
    "  - index \n",
    "  - count\n",
    "  - sort \n",
    "  - reverse\n",
    "  - copy\n"
   ]
  },
  {
   "cell_type": "code",
   "execution_count": 24,
   "metadata": {},
   "outputs": [
    {
     "name": "stdout",
     "output_type": "stream",
     "text": [
      "['apple', 'banana', 12, 'banana']\n"
     ]
    }
   ],
   "source": [
    "x.append('banana')\n",
    "print(x)"
   ]
  },
  {
   "cell_type": "code",
   "execution_count": 25,
   "metadata": {},
   "outputs": [
    {
     "name": "stdout",
     "output_type": "stream",
     "text": [
      "['apple', 'banana', 12, 'banana', 12]\n"
     ]
    }
   ],
   "source": [
    "x.append(12)\n",
    "print(x)"
   ]
  },
  {
   "cell_type": "code",
   "execution_count": 35,
   "metadata": {},
   "outputs": [
    {
     "name": "stdout",
     "output_type": "stream",
     "text": [
      "['shakespaer', 'wings of fire', 'Harry Potter', 'Pride', 'The Great Gatsby']\n"
     ]
    }
   ],
   "source": [
    "books = []\n",
    "for i in range(5):\n",
    "    books.append(input('Enter a book'))\n",
    "print(books)"
   ]
  },
  {
   "cell_type": "code",
   "execution_count": 36,
   "metadata": {},
   "outputs": [],
   "source": [
    "more_books= ['Hamlet','Lord of the Rings','the sunlight man']\n"
   ]
  },
  {
   "cell_type": "code",
   "execution_count": 39,
   "metadata": {},
   "outputs": [
    {
     "data": {
      "text/plain": [
       "['shakespaer',\n",
       " 'wings of fire',\n",
       " 'Harry Potter and the chamber of secrets',\n",
       " 'Harry Potter',\n",
       " 'Pride',\n",
       " 'The Great Gatsby',\n",
       " 'Hamlet',\n",
       " 'Lord of the Rings',\n",
       " 'the sunlight man',\n",
       " 'Hamlet',\n",
       " 'Lord of the Rings',\n",
       " 'the sunlight man']"
      ]
     },
     "execution_count": 39,
     "metadata": {},
     "output_type": "execute_result"
    }
   ],
   "source": [
    "books.extend(more_books)\n",
    "books"
   ]
  },
  {
   "cell_type": "code",
   "execution_count": 40,
   "metadata": {},
   "outputs": [
    {
     "data": {
      "text/plain": [
       "['shakespaer',\n",
       " 'wings of fire',\n",
       " \"Harry Potter and the sorcerer's stone \",\n",
       " 'Harry Potter',\n",
       " 'Pride',\n",
       " 'The Great Gatsby',\n",
       " 'Hamlet',\n",
       " 'Lord of the Rings',\n",
       " 'the sunlight man',\n",
       " 'Hamlet',\n",
       " 'Lord of the Rings',\n",
       " 'the sunlight man']"
      ]
     },
     "execution_count": 40,
     "metadata": {},
     "output_type": "execute_result"
    }
   ],
   "source": [
    "books[2] = \"Harry Potter and the sorcerer's stone \" #replace\n",
    "books\n"
   ]
  },
  {
   "cell_type": "code",
   "execution_count": 38,
   "metadata": {},
   "outputs": [
    {
     "data": {
      "text/plain": [
       "['shakespaer',\n",
       " 'wings of fire',\n",
       " 'Harry Potter and the chamber of secrets',\n",
       " 'Harry Potter',\n",
       " 'Pride',\n",
       " 'The Great Gatsby',\n",
       " 'Hamlet',\n",
       " 'Lord of the Rings',\n",
       " 'the sunlight man']"
      ]
     },
     "execution_count": 38,
     "metadata": {},
     "output_type": "execute_result"
    }
   ],
   "source": [
    "books.insert(2,'Harry Potter and the chamber of secrets') #insert\n",
    "books"
   ]
  },
  {
   "cell_type": "code",
   "execution_count": 42,
   "metadata": {},
   "outputs": [],
   "source": [
    "if 'Pride' in books:\n",
    "   books.remove('Pride')"
   ]
  },
  {
   "cell_type": "code",
   "execution_count": 43,
   "metadata": {},
   "outputs": [
    {
     "data": {
      "text/plain": [
       "'the sunlight man'"
      ]
     },
     "execution_count": 43,
     "metadata": {},
     "output_type": "execute_result"
    }
   ],
   "source": [
    "books.pop() #remove element of index 2\n"
   ]
  },
  {
   "cell_type": "code",
   "execution_count": 44,
   "metadata": {},
   "outputs": [
    {
     "data": {
      "text/plain": [
       "\"Harry Potter and the sorcerer's stone \""
      ]
     },
     "execution_count": 44,
     "metadata": {},
     "output_type": "execute_result"
    }
   ],
   "source": [
    "books.pop(2) #remove element of index 2"
   ]
  },
  {
   "cell_type": "markdown",
   "metadata": {},
   "source": [
    "- utility method\n",
    "  - index\n",
    "  - count\n",
    "  - sort\n",
    "  - reverse\n",
    "  - copy"
   ]
  },
  {
   "cell_type": "code",
   "execution_count": 1,
   "metadata": {},
   "outputs": [
    {
     "name": "stdout",
     "output_type": "stream",
     "text": [
      "2\n",
      "0\n",
      "5\n"
     ]
    }
   ],
   "source": [
    "x = [101,102,103,104,105,101,102]\n",
    "print(x.index(103))\n",
    "print(x.index(101))\n",
    "print(x.index(101,2)) # 2 is the starting index\n",
    "\n"
   ]
  },
  {
   "cell_type": "code",
   "execution_count": 2,
   "metadata": {},
   "outputs": [
    {
     "name": "stdout",
     "output_type": "stream",
     "text": [
      "2\n",
      "1\n",
      "0\n"
     ]
    }
   ],
   "source": [
    "print(x.count(101))\n",
    "print(x.count(103))\n",
    "print(x.count(110))"
   ]
  },
  {
   "cell_type": "code",
   "execution_count": 3,
   "metadata": {},
   "outputs": [
    {
     "name": "stdout",
     "output_type": "stream",
     "text": [
      "[102, 101, 105, 104, 103, 102, 101]\n"
     ]
    }
   ],
   "source": [
    "x.reverse()\n",
    "print(x)"
   ]
  },
  {
   "cell_type": "code",
   "execution_count": 4,
   "metadata": {},
   "outputs": [
    {
     "name": "stdout",
     "output_type": "stream",
     "text": [
      "[101, 101, 102, 102, 103, 104, 105]\n",
      "[105, 104, 103, 102, 102, 101, 101]\n"
     ]
    }
   ],
   "source": [
    "# ascending order\n",
    "x.sort()\n",
    "print(x)\n",
    "# descending order\n",
    "x.sort(reverse=True)\n",
    "print(x)"
   ]
  },
  {
   "cell_type": "code",
   "execution_count": 6,
   "metadata": {},
   "outputs": [
    {
     "name": "stdout",
     "output_type": "stream",
     "text": [
      "[1, 2, 3]\n",
      "[1, 2, 3]\n",
      "[1, 2, 3, 106]\n",
      "[1, 3]\n"
     ]
    }
   ],
   "source": [
    "x = [1,2,3]\n",
    "x1 = x.copy()\n",
    "print(x1)\n",
    "print(x)\n",
    "x.append(106)\n",
    "x1.remove(2)\n",
    "print(x)\n",
    "print(x1)\n"
   ]
  },
  {
   "cell_type": "code",
   "execution_count": null,
   "metadata": {},
   "outputs": [],
   "source": []
  }
 ],
 "metadata": {
  "kernelspec": {
   "display_name": "base",
   "language": "python",
   "name": "python3"
  },
  "language_info": {
   "codemirror_mode": {
    "name": "ipython",
    "version": 3
   },
   "file_extension": ".py",
   "mimetype": "text/x-python",
   "name": "python",
   "nbconvert_exporter": "python",
   "pygments_lexer": "ipython3",
   "version": "3.11.5"
  }
 },
 "nbformat": 4,
 "nbformat_minor": 2
}
