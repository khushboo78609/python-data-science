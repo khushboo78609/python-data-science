{
 "cells": [
  {
   "cell_type": "markdown",
   "metadata": {},
   "source": [
    "# string\n",
    "- creating\n",
    "- indexing and slicing\n",
    "- methods\n",
    "    - formatting\n",
    "    -validation\n",
    "    -searching\n",
    "    -utilities\n",
    "-operations"
   ]
  },
  {
   "cell_type": "code",
   "execution_count": 1,
   "metadata": {},
   "outputs": [
    {
     "name": "stdout",
     "output_type": "stream",
     "text": [
      "<class 'str'> <class 'str'> <class 'str'> <class 'str'>\n",
      "apple\n",
      "banana\n",
      "this is\n",
      " an example of \n",
      " multiple string\n",
      "another example\n",
      " of a multiple string\n"
     ]
    }
   ],
   "source": [
    "a = 'apple'\n",
    "b = \"banana\"\n",
    "\n",
    "c = '''this is\n",
    " an example of \n",
    " multiple string'''\n",
    "\n",
    "d = \"\"\"another example\n",
    " of a multiple string\"\"\"\n",
    "\n",
    "print(type(a), type(b), type(c),type(d))\n",
    "print(a)\n",
    "print(b)\n",
    "print(c)\n",
    "print(d)\n",
    "\n"
   ]
  },
  {
   "cell_type": "code",
   "execution_count": 2,
   "metadata": {},
   "outputs": [
    {
     "name": "stdout",
     "output_type": "stream",
     "text": [
      "the hippo was 5' tall\n",
      "the hippo was 5' tall\n"
     ]
    }
   ],
   "source": [
    "msg = 'the hippo was 5\\' tall'\n",
    "print(msg)\n",
    "msg = \"the hippo was 5' tall\"\n",
    "print(msg)"
   ]
  },
  {
   "cell_type": "code",
   "execution_count": 6,
   "metadata": {},
   "outputs": [
    {
     "name": "stdout",
     "output_type": "stream",
     "text": [
      "9\n",
      "a\n",
      "l\n",
      "x\n",
      "n\n",
      "r\n",
      "n\n"
     ]
    }
   ],
   "source": [
    "name = 'alexander'#iterable\n",
    "print(len(name))\n",
    "print(name[0]) # undex 0 of name variable\n",
    "print(name[1])\n",
    "print(name[3])\n",
    "print(name[5])\n",
    "print(name[-1])\n",
    "print(name[-4])\n"
   ]
  },
  {
   "cell_type": "code",
   "execution_count": 9,
   "metadata": {},
   "outputs": [
    {
     "name": "stdout",
     "output_type": "stream",
     "text": [
      "alex\n"
     ]
    }
   ],
   "source": [
    "print(name[0],name[1],name[2],name[3], sep = '')"
   ]
  },
  {
   "cell_type": "markdown",
   "metadata": {},
   "source": [
    "slicing\n",
    "syntax\n",
    "```\n",
    "str[start : stop+1]\n",
    "\n",
    "str[start : stop+1 : step]\n",
    "\n",
    "str[: stop+1] #"
   ]
  },
  {
   "cell_type": "code",
   "execution_count": 11,
   "metadata": {},
   "outputs": [
    {
     "data": {
      "text/plain": [
       "'alexa'"
      ]
     },
     "execution_count": 11,
     "metadata": {},
     "output_type": "execute_result"
    }
   ],
   "source": [
    "name[0:5] #get the values at 0,1,2,3,4(5 is not included)"
   ]
  },
  {
   "cell_type": "code",
   "execution_count": null,
   "metadata": {},
   "outputs": [],
   "source": []
  },
  {
   "cell_type": "code",
   "execution_count": 13,
   "metadata": {},
   "outputs": [
    {
     "name": "stdout",
     "output_type": "stream",
     "text": [
      "Leonardo da Vinci\n"
     ]
    }
   ],
   "source": [
    "n2 = 'Leonardo da Vinci'\n",
    "print(n2[:8])\n",
    "print(n2[:8])\n",
    "print(n2[:8])\n",
    "print(n2[:8])\n",
    "print(n2[:8])\n",
    "\n",
    "\n"
   ]
  },
  {
   "cell_type": "code",
   "execution_count": 16,
   "metadata": {},
   "outputs": [
    {
     "name": "stdout",
     "output_type": "stream",
     "text": [
      "Vijay \n",
      "Deenanath\n",
      "Chauhan\n"
     ]
    }
   ],
   "source": [
    "n3 = 'Vijay Deenanath Chauhan'\n",
    "print(n3[0:6])\n",
    "print(n3[6:15])\n",
    "print(n3[-7:])\n"
   ]
  },
  {
   "cell_type": "markdown",
   "metadata": {},
   "source": [
    "slicing with steps"
   ]
  },
  {
   "cell_type": "code",
   "execution_count": 17,
   "metadata": {},
   "outputs": [
    {
     "data": {
      "text/plain": [
       "'VjyDeaahCahn'"
      ]
     },
     "execution_count": 17,
     "metadata": {},
     "output_type": "execute_result"
    }
   ],
   "source": [
    "n3[::2] # every other character"
   ]
  },
  {
   "cell_type": "code",
   "execution_count": 18,
   "metadata": {},
   "outputs": [
    {
     "data": {
      "text/plain": [
       "'ia ennt hua'"
      ]
     },
     "execution_count": 18,
     "metadata": {},
     "output_type": "execute_result"
    }
   ],
   "source": [
    "n3[1::2] # odd index character"
   ]
  },
  {
   "cell_type": "code",
   "execution_count": 19,
   "metadata": {},
   "outputs": [
    {
     "data": {
      "text/plain": [
       "'eao'"
      ]
     },
     "execution_count": 19,
     "metadata": {},
     "output_type": "execute_result"
    }
   ],
   "source": [
    "n2[1:10:3] # 1,4,7(stop at 10)"
   ]
  },
  {
   "cell_type": "code",
   "execution_count": 20,
   "metadata": {},
   "outputs": [
    {
     "data": {
      "text/plain": [
       "'icniV ad odranoeL'"
      ]
     },
     "execution_count": 20,
     "metadata": {},
     "output_type": "execute_result"
    }
   ],
   "source": [
    "n2[::-1 ] #reverse the string"
   ]
  },
  {
   "cell_type": "code",
   "execution_count": 21,
   "metadata": {},
   "outputs": [
    {
     "name": "stdout",
     "output_type": "stream",
     "text": [
      "this is a quote from brandon sanderson,\n",
      "\"the purpose of a storyteller is not to tell how to think,\n",
      "but to give you questions to think upon.\"\n",
      "first 50 letters\n",
      "this is a quote from brandon sanderson,\n",
      "\"the purpo\n",
      "first 50 letters\n",
      "o think,\n",
      "but to give you questions to think upon.\"\n",
      "first 50 letters\n",
      "this is a quote from brandon sanderson,\n",
      "\"the purpose of a storyteller is not to tell how to think,\n",
      "but to give you questions to think upon.\"\n"
     ]
    }
   ],
   "source": [
    "quote = '''this is a quote from brandon sanderson,\n",
    "\"the purpose of a storyteller is not to tell how to think,\n",
    "but to give you questions to think upon.\"'''\n",
    "print(quote)\n",
    "\n",
    "print('first 50 letters')\n",
    "print(quote[:50])\n",
    "\n",
    "print('first 50 letters')\n",
    "print(quote[-50:])\n",
    "\n",
    "print('first 50 letters')\n",
    "print(quote[:500])\n",
    "\n",
    "\n"
   ]
  },
  {
   "cell_type": "code",
   "execution_count": 22,
   "metadata": {},
   "outputs": [
    {
     "name": "stdout",
     "output_type": "stream",
     "text": [
      "65 97\n",
      "A a 😌\n"
     ]
    }
   ],
   "source": [
    "print(ord('A'), ord('a'))\n",
    "print(chr(65), chr(97), chr(128524)) #unicode/acii\n"
   ]
  },
  {
   "cell_type": "code",
   "execution_count": 23,
   "metadata": {},
   "outputs": [
    {
     "name": "stdout",
     "output_type": "stream",
     "text": [
      "1 2 3 5 8 13 21 34 55 89 144 233 "
     ]
    }
   ],
   "source": [
    "# fibonacci sequence 1,2,3,5,8,13,21,34,...\n",
    "a,b = 1,2\n",
    "print(a,b, end= ' ')\n",
    "for i in range(10):\n",
    "    c = a+b\n",
    "    print(c, end= ' ')\n",
    "    #swap values\n",
    "    a = b # a=3\n",
    "    b = c #b=5"
   ]
  },
  {
   "cell_type": "code",
   "execution_count": null,
   "metadata": {},
   "outputs": [],
   "source": []
  }
 ],
 "metadata": {
  "kernelspec": {
   "display_name": "base",
   "language": "python",
   "name": "python3"
  },
  "language_info": {
   "codemirror_mode": {
    "name": "ipython",
    "version": 3
   },
   "file_extension": ".py",
   "mimetype": "text/x-python",
   "name": "python",
   "nbconvert_exporter": "python",
   "pygments_lexer": "ipython3",
   "version": "3.11.5"
  }
 },
 "nbformat": 4,
 "nbformat_minor": 2
}
