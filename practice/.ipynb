{
 "cells": [
  {
   "cell_type": "markdown",
   "metadata": {},
   "source": [
    "Comparison operators"
   ]
  },
  {
   "cell_type": "code",
   "execution_count": null,
   "metadata": {},
   "outputs": [],
   "source": [
    "if 7 < 9:\n",
    "    print('7 is less than 9')\n",
    "a = 10 \n",
    "b = 5\n",
    "\n",
    "if a == b:\n",
    "    print('a is equal to b')\n",
    "if a< b:"
   ]
  }
 ],
 "metadata": {
  "language_info": {
   "name": "python"
  }
 },
 "nbformat": 4,
 "nbformat_minor": 2
}
