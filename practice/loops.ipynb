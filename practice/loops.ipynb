{
 "cells": [
  {
   "cell_type": "markdown",
   "metadata": {},
   "source": [
    " - print num 1 to 10 using for loop"
   ]
  },
  {
   "cell_type": "code",
   "execution_count": null,
   "metadata": {},
   "outputs": [],
   "source": []
  },
  {
   "cell_type": "code",
   "execution_count": null,
   "metadata": {},
   "outputs": [],
   "source": []
  },
  {
   "cell_type": "code",
   "execution_count": 1,
   "metadata": {},
   "outputs": [
    {
     "name": "stdout",
     "output_type": "stream",
     "text": [
      "1\n",
      "2\n",
      "3\n",
      "4\n",
      "5\n",
      "6\n",
      "7\n",
      "8\n",
      "9\n",
      "10\n"
     ]
    }
   ],
   "source": [
    "for i in range(1,11):\n",
    "    print(i)"
   ]
  },
  {
   "cell_type": "markdown",
   "metadata": {},
   "source": [
    "- print the multiplication table of a given number using a while loop"
   ]
  },
  {
   "cell_type": "code",
   "execution_count": 2,
   "metadata": {},
   "outputs": [
    {
     "name": "stdout",
     "output_type": "stream",
     "text": [
      "Multiplication Table of 4\n",
      "4 x 1 = 4\n",
      "4 x 2 = 8\n",
      "4 x 3 = 12\n",
      "4 x 4 = 16\n",
      "4 x 5 = 20\n",
      "4 x 6 = 24\n",
      "4 x 7 = 28\n",
      "4 x 8 = 32\n",
      "4 x 9 = 36\n",
      "4 x 10 = 40\n"
     ]
    }
   ],
   "source": [
    "num = int(input(\"Enter the number\"))\n",
    "\n",
    "print(\"Multiplication Table of\", num)\n",
    "for i in range(1,11):\n",
    "    \n",
    "  print(num,\"x\",i,\"=\",num*i)"
   ]
  },
  {
   "cell_type": "markdown",
   "metadata": {},
   "source": [
    "- find the sum of all even numbers between 1 and 100 using a for loop"
   ]
  },
  {
   "cell_type": "code",
   "execution_count": 1,
   "metadata": {},
   "outputs": [
    {
     "name": "stdout",
     "output_type": "stream",
     "text": [
      "Sum of even number is 2550\n"
     ]
    }
   ],
   "source": [
    "sum = 0\n",
    "for number in range(1,101):\n",
    "    if number %2==0:\n",
    "        sum +=number\n",
    "print(\"Sum of even number is\" ,sum)"
   ]
  },
  {
   "cell_type": "markdown",
   "metadata": {},
   "source": [
    "- check if a given number is prime or not using while loop"
   ]
  },
  {
   "cell_type": "code",
   "execution_count": null,
   "metadata": {},
   "outputs": [],
   "source": []
  },
  {
   "cell_type": "markdown",
   "metadata": {},
   "source": [
    "- Calculate the factorial of a number using for loop"
   ]
  },
  {
   "cell_type": "code",
   "execution_count": 4,
   "metadata": {},
   "outputs": [
    {
     "name": "stdout",
     "output_type": "stream",
     "text": [
      "The factorial of 4 is 24 \n"
     ]
    }
   ],
   "source": [
    "num = int(input(\"Enter a number\"))\n",
    "factorial = 1\n",
    "for i in range(1,num+1):\n",
    "    factorial*= i\n",
    "\n",
    "print(f\"The factorial of {num} is {factorial} \")"
   ]
  },
  {
   "cell_type": "code",
   "execution_count": 1,
   "metadata": {},
   "outputs": [],
   "source": []
  },
  {
   "cell_type": "code",
   "execution_count": 1,
   "metadata": {},
   "outputs": [],
   "source": [
    "a=10"
   ]
  },
  {
   "cell_type": "code",
   "execution_count": 2,
   "metadata": {},
   "outputs": [],
   "source": [
    "apple = 'red'"
   ]
  },
  {
   "cell_type": "markdown",
   "metadata": {},
   "source": [
    "find the largest element in the array using fo loop"
   ]
  },
  {
   "cell_type": "code",
   "execution_count": 1,
   "metadata": {},
   "outputs": [
    {
     "name": "stdout",
     "output_type": "stream",
     "text": [
      "Largest element => 65\n"
     ]
    }
   ],
   "source": [
    "arr = [2,5,7,3,9,24,65,12,17]\n",
    "largest = arr[0]\n",
    "for element in arr:\n",
    "    if largest < element:\n",
    "        largest = element\n",
    "print(\"Largest element =>\", largest)\n"
   ]
  },
  {
   "cell_type": "markdown",
   "metadata": {},
   "source": []
  },
  {
   "cell_type": "code",
   "execution_count": 2,
   "metadata": {},
   "outputs": [],
   "source": [
    "def get_largest_element(array):\n",
    "  largest = arr[0]\n",
    "  for element in array:\n",
    "    if len(largest) < len(element):\n",
    "        largest = element\n",
    "    return largest\n",
    "\n",
    "    "
   ]
  },
  {
   "cell_type": "code",
   "execution_count": 3,
   "metadata": {},
   "outputs": [
    {
     "ename": "TypeError",
     "evalue": "object of type 'int' has no len()",
     "output_type": "error",
     "traceback": [
      "\u001b[1;31m---------------------------------------------------------------------------\u001b[0m",
      "\u001b[1;31mTypeError\u001b[0m                                 Traceback (most recent call last)",
      "\u001b[1;32mc:\\Users\\SUMIT PRAJAPATI\\OneDrive\\Documentos\\python data science\\practice\\loops.ipynb Cell 20\u001b[0m line \u001b[0;36m2\n\u001b[0;32m      <a href='vscode-notebook-cell:/c%3A/Users/SUMIT%20PRAJAPATI/OneDrive/Documentos/python%20data%20science/practice/loops.ipynb#X26sZmlsZQ%3D%3D?line=0'>1</a>\u001b[0m arr2 \u001b[39m=\u001b[39m [\u001b[39m'\u001b[39m\u001b[39mapple\u001b[39m\u001b[39m'\u001b[39m,\u001b[39m'\u001b[39m\u001b[39mmango\u001b[39m\u001b[39m'\u001b[39m,\u001b[39m'\u001b[39m\u001b[39mwatermelon\u001b[39m\u001b[39m'\u001b[39m,\u001b[39m'\u001b[39m\u001b[39mpomogranate\u001b[39m\u001b[39m'\u001b[39m,\u001b[39m'\u001b[39m\u001b[39morange\u001b[39m\u001b[39m'\u001b[39m]\n\u001b[1;32m----> <a href='vscode-notebook-cell:/c%3A/Users/SUMIT%20PRAJAPATI/OneDrive/Documentos/python%20data%20science/practice/loops.ipynb#X26sZmlsZQ%3D%3D?line=1'>2</a>\u001b[0m get_largest_element(arr2)\n",
      "\u001b[1;32mc:\\Users\\SUMIT PRAJAPATI\\OneDrive\\Documentos\\python data science\\practice\\loops.ipynb Cell 20\u001b[0m line \u001b[0;36m4\n\u001b[0;32m      <a href='vscode-notebook-cell:/c%3A/Users/SUMIT%20PRAJAPATI/OneDrive/Documentos/python%20data%20science/practice/loops.ipynb#X26sZmlsZQ%3D%3D?line=1'>2</a>\u001b[0m largest \u001b[39m=\u001b[39m arr[\u001b[39m0\u001b[39m]\n\u001b[0;32m      <a href='vscode-notebook-cell:/c%3A/Users/SUMIT%20PRAJAPATI/OneDrive/Documentos/python%20data%20science/practice/loops.ipynb#X26sZmlsZQ%3D%3D?line=2'>3</a>\u001b[0m \u001b[39mfor\u001b[39;00m element \u001b[39min\u001b[39;00m array:\n\u001b[1;32m----> <a href='vscode-notebook-cell:/c%3A/Users/SUMIT%20PRAJAPATI/OneDrive/Documentos/python%20data%20science/practice/loops.ipynb#X26sZmlsZQ%3D%3D?line=3'>4</a>\u001b[0m   \u001b[39mif\u001b[39;00m \u001b[39mlen\u001b[39m(largest) \u001b[39m<\u001b[39m \u001b[39mlen\u001b[39m(element):\n\u001b[0;32m      <a href='vscode-notebook-cell:/c%3A/Users/SUMIT%20PRAJAPATI/OneDrive/Documentos/python%20data%20science/practice/loops.ipynb#X26sZmlsZQ%3D%3D?line=4'>5</a>\u001b[0m       largest \u001b[39m=\u001b[39m element\n\u001b[0;32m      <a href='vscode-notebook-cell:/c%3A/Users/SUMIT%20PRAJAPATI/OneDrive/Documentos/python%20data%20science/practice/loops.ipynb#X26sZmlsZQ%3D%3D?line=5'>6</a>\u001b[0m   \u001b[39mreturn\u001b[39;00m largest\n",
      "\u001b[1;31mTypeError\u001b[0m: object of type 'int' has no len()"
     ]
    }
   ],
   "source": [
    "arr2 = ['apple','mango','watermelon','pomogranate','orange']\n",
    "get_largest_element(arr2)"
   ]
  },
  {
   "cell_type": "code",
   "execution_count": null,
   "metadata": {},
   "outputs": [],
   "source": []
  }
 ],
 "metadata": {
  "kernelspec": {
   "display_name": "base",
   "language": "python",
   "name": "python3"
  },
  "language_info": {
   "codemirror_mode": {
    "name": "ipython",
    "version": 3
   },
   "file_extension": ".py",
   "mimetype": "text/x-python",
   "name": "python",
   "nbconvert_exporter": "python",
   "pygments_lexer": "ipython3",
   "version": "3.11.5"
  }
 },
 "nbformat": 4,
 "nbformat_minor": 2
}
